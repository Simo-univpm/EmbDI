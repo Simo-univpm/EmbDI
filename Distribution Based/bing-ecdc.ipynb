{
 "cells": [
  {
   "cell_type": "code",
   "execution_count": 15,
   "metadata": {},
   "outputs": [],
   "source": [
    "import os\n",
    "from os.path import dirname, abspath\n",
    "import pandas as pd\n",
    "import valentine as valentine\n",
    "from valentine import valentine_match, valentine_metrics\n",
    "from valentine.algorithms import DistributionBased\n",
    "import pprint"
   ]
  },
  {
   "cell_type": "code",
   "execution_count": 16,
   "metadata": {},
   "outputs": [
    {
     "name": "stdout",
     "output_type": "stream",
     "text": [
      "C:/Users/fende/Desktop/Dati\n"
     ]
    }
   ],
   "source": [
    "PATH = \"C:/Users/fende/Desktop/Dati\"\n",
    "print(PATH)"
   ]
  },
  {
   "attachments": {},
   "cell_type": "markdown",
   "metadata": {},
   "source": [
    "Load data using pandas"
   ]
  },
  {
   "cell_type": "code",
   "execution_count": 17,
   "metadata": {},
   "outputs": [
    {
     "name": "stdout",
     "output_type": "stream",
     "text": [
      "Index(['id', 'updated', 'confirmed', 'confirmed_change', 'deaths',\n",
      "       'deaths_change', 'recovered', 'recovered_change', 'latitude',\n",
      "       'longitude', 'iso2', 'iso3', 'country_region', 'admin_region_1',\n",
      "       'iso_subdivision', 'admin_region_2', 'load_time'],\n",
      "      dtype='object')\n",
      "Index(['date_rep', 'day', 'month', 'year', 'cases', 'deaths',\n",
      "       'countries_and_territories', 'geo_id', 'country_territory_code',\n",
      "       'pop_data_2018', 'continent_exp', 'load_date', 'iso_country',\n",
      "       'daterep'],\n",
      "      dtype='object')\n"
     ]
    }
   ],
   "source": [
    "df1 = pd.read_csv(PATH + \"/bing_covid-19_data.csv\",   sep = \",\", low_memory = False)\n",
    "print(df1.columns)\n",
    "df2 = pd.read_csv(PATH + \"/ecdc_cases.csv\", sep = \",\", low_memory = False)\n",
    "print(df2.columns)"
   ]
  },
  {
   "attachments": {},
   "cell_type": "markdown",
   "metadata": {},
   "source": [
    "Keeping only the common values between the 2 datasets"
   ]
  },
  {
   "cell_type": "code",
   "execution_count": 18,
   "metadata": {},
   "outputs": [],
   "source": [
    "# presi una tupla a caso per ogni stato della colonna iso3 per evitare di prendere i primi record di ogni stato ed effettuare un random sampling\n",
    "df1 = df1.groupby([\"iso3\"]).sample(1)\n",
    "df2 = df2.groupby([\"country_territory_code\"]).sample(1)\n",
    "\n",
    "merged = pd.merge(df1, df2, how = \"inner\", left_on='iso3', right_on='country_territory_code')\n",
    "\n",
    "merged.rename(columns={\"deaths_x\": \"deaths\"}, inplace=True)\n",
    "\n",
    "#col_names_df2 = list(df2.columns)\n",
    "#merged = merged.drop(col_names_df2, axis=1)\n",
    "merged = merged[df1.columns]\n",
    "\n",
    "merged.to_csv(PATH + \"/filtered_bing_ecdc.csv\", index = False)\n",
    "#df2.to_csv(PATH + \"/examples/data/filtered_policy_tracker.csv\", index = False)"
   ]
  },
  {
   "attachments": {},
   "cell_type": "markdown",
   "metadata": {},
   "source": [
    "Instantiate matcher and run"
   ]
  },
  {
   "cell_type": "code",
   "execution_count": 19,
   "metadata": {},
   "outputs": [
    {
     "name": "stdout",
     "output_type": "stream",
     "text": [
      "CPU times: total: 3.97 s\n",
      "Wall time: 4.8 s\n"
     ]
    }
   ],
   "source": [
    "%%time\n",
    "matcher = DistributionBased(0.15, 0.15)\n",
    "matches = valentine_match(merged, df2, matcher)"
   ]
  },
  {
   "attachments": {},
   "cell_type": "markdown",
   "metadata": {},
   "source": [
    "Ground truth for metrics calculation"
   ]
  },
  {
   "cell_type": "code",
   "execution_count": 20,
   "metadata": {},
   "outputs": [],
   "source": [
    "ground_truth = [\n",
    "                (\"iso3\", \"country_territory_code\"),\n",
    "                (\"iso2\", \"iso_country\"),\n",
    "               ]"
   ]
  },
  {
   "attachments": {},
   "cell_type": "markdown",
   "metadata": {},
   "source": [
    "Metrics calculation"
   ]
  },
  {
   "cell_type": "code",
   "execution_count": 21,
   "metadata": {},
   "outputs": [
    {
     "name": "stdout",
     "output_type": "stream",
     "text": [
      "Found the following matches:\n",
      "{   (('table_1', 'confirmed'), ('table_2', 'cases')): 0.8852111887843906,\n",
      "    (('table_1', 'confirmed'), ('table_2', 'day')): 0.9495950498610347,\n",
      "    (('table_1', 'confirmed'), ('table_2', 'deaths')): 0.7901008511844057,\n",
      "    (('table_1', 'confirmed'), ('table_2', 'month')): 0.858413606004478,\n",
      "    (('table_1', 'confirmed_change'), ('table_2', 'cases')): 0.9542985637072338,\n",
      "    (('table_1', 'confirmed_change'), ('table_2', 'day')): 0.9294689804737749,\n",
      "    (('table_1', 'confirmed_change'), ('table_2', 'deaths')): 0.8537946071414095,\n",
      "    (('table_1', 'confirmed_change'), ('table_2', 'month')): 0.8974773121496267,\n",
      "    (('table_1', 'country_region'), ('table_2', 'countries_and_territories')): 0.990701856534625,\n",
      "    (('table_1', 'deaths'), ('table_2', 'cases')): 0.8717203357768185,\n",
      "    (('table_1', 'deaths'), ('table_2', 'day')): 0.9169688169850726,\n",
      "    (('table_1', 'deaths'), ('table_2', 'deaths')): 0.7657990814131562,\n",
      "    (('table_1', 'deaths'), ('table_2', 'month')): 0.9140031002020668,\n",
      "    (('table_1', 'deaths_change'), ('table_2', 'cases')): 0.8773992124197885,\n",
      "    (('table_1', 'deaths_change'), ('table_2', 'day')): 0.903382257105544,\n",
      "    (('table_1', 'deaths_change'), ('table_2', 'deaths')): 0.9855446119284279,\n",
      "    (('table_1', 'deaths_change'), ('table_2', 'month')): 0.9205143646911516,\n",
      "    (('table_1', 'iso2'), ('table_2', 'geo_id')): 0.99925613441918,\n",
      "    (('table_1', 'iso2'), ('table_2', 'iso_country')): 0.99925613441918,\n",
      "    (('table_1', 'iso3'), ('table_2', 'country_territory_code')): 0.9989730328912324,\n",
      "    (('table_1', 'longitude'), ('table_2', 'cases')): 0.9241895979716387,\n",
      "    (('table_1', 'longitude'), ('table_2', 'day')): 0.9258238382874496,\n",
      "    (('table_1', 'longitude'), ('table_2', 'deaths')): 0.9052760231330488,\n",
      "    (('table_1', 'longitude'), ('table_2', 'month')): 0.8228291463173513,\n",
      "    (('table_1', 'recovered'), ('table_2', 'cases')): 0.9074062493421388,\n",
      "    (('table_1', 'recovered'), ('table_2', 'day')): 0.9077249026497872,\n",
      "    (('table_1', 'recovered'), ('table_2', 'deaths')): 0.8027730538247935,\n",
      "    (('table_1', 'recovered'), ('table_2', 'month')): 0.9329034705101461,\n",
      "    (('table_1', 'recovered_change'), ('table_2', 'cases')): 0.9352973815735076,\n",
      "    (('table_1', 'recovered_change'), ('table_2', 'day')): 0.9535900462529066,\n",
      "    (('table_1', 'recovered_change'), ('table_2', 'deaths')): 0.9650349650349651,\n",
      "    (('table_1', 'recovered_change'), ('table_2', 'month')): 0.8770086526576021}\n",
      "\n",
      "According to the ground truth:\n",
      "[('iso3', 'country_territory_code'), ('iso2', 'iso_country')]\n",
      "\n",
      "These are the scores of the matcher:\n",
      "{   'f1_score': 0.22222222222222224,\n",
      "    'precision': 0.14285714285714285,\n",
      "    'precision_at_10_percent': 0.5,\n",
      "    'precision_at_30_percent': 0.2,\n",
      "    'precision_at_50_percent': 0.125,\n",
      "    'precision_at_70_percent': 0.08695652173913043,\n",
      "    'precision_at_90_percent': 0.06896551724137931,\n",
      "    'recall': 0.5,\n",
      "    'recall_at_sizeof_ground_truth': 0.5}\n"
     ]
    }
   ],
   "source": [
    "metrics = valentine_metrics.all_metrics(matches, ground_truth)\n",
    "\n",
    "pp = pprint.PrettyPrinter(indent=4)\n",
    "print(\"Found the following matches:\")\n",
    "pp.pprint(matches)\n",
    "\n",
    "print(\"\\nAccording to the ground truth:\")\n",
    "pp.pprint(ground_truth)\n",
    "\n",
    "print(\"\\nThese are the scores of the matcher:\")\n",
    "pp.pprint(metrics)"
   ]
  }
 ],
 "metadata": {
  "kernelspec": {
   "display_name": "Python 3",
   "language": "python",
   "name": "python3"
  },
  "language_info": {
   "codemirror_mode": {
    "name": "ipython",
    "version": 3
   },
   "file_extension": ".py",
   "mimetype": "text/x-python",
   "name": "python",
   "nbconvert_exporter": "python",
   "pygments_lexer": "ipython3",
   "version": "3.9.10 (tags/v3.9.10:f2f3f53, Jan 17 2022, 15:14:21) [MSC v.1929 64 bit (AMD64)]"
  },
  "orig_nbformat": 4,
  "vscode": {
   "interpreter": {
    "hash": "2d3f817902afc60ee7d7876fce82fcd9285981a696a9c3590d33e70c2f332502"
   }
  }
 },
 "nbformat": 4,
 "nbformat_minor": 2
}
