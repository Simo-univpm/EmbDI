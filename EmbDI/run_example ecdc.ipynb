{
 "cells": [
  {
   "cell_type": "code",
   "execution_count": 1,
   "metadata": {},
   "outputs": [
    {
     "name": "stderr",
     "output_type": "stream",
     "text": [
      "[nltk_data] Downloading package stopwords to\n",
      "[nltk_data]     C:\\Users\\Simo\\AppData\\Roaming\\nltk_data...\n",
      "[nltk_data]   Package stopwords is already up-to-date!\n"
     ]
    }
   ],
   "source": [
    "import os\n",
    "import sys\n",
    "from os.path import dirname, abspath\n",
    "import argparse\n",
    "import pandas as pd\n",
    "from EmbDI import data_preprocessing as dp"
   ]
  },
  {
   "cell_type": "code",
   "execution_count": 2,
   "metadata": {},
   "outputs": [],
   "source": [
    "PATH = \"C:/Users/Simo/Desktop/progettongdb/algoritmi/embdi/embdi-master\""
   ]
  },
  {
   "attachments": {},
   "cell_type": "markdown",
   "metadata": {},
   "source": [
    "ETL"
   ]
  },
  {
   "attachments": {},
   "cell_type": "markdown",
   "metadata": {},
   "source": [
    "Load data using pandas"
   ]
  },
  {
   "cell_type": "code",
   "execution_count": 3,
   "metadata": {},
   "outputs": [],
   "source": [
    "df1 = pd.read_csv(PATH + \"/pipeline/datasets/covid/bing_covid-19_data.csv\", sep = \",\", low_memory = False)\n",
    "df2 = pd.read_csv(PATH + \"/pipeline/datasets/covid/ecdc_cases.csv\", sep = \",\", low_memory = False)"
   ]
  },
  {
   "attachments": {},
   "cell_type": "markdown",
   "metadata": {},
   "source": [
    "Keeping only the common values between the 2 datasets"
   ]
  },
  {
   "cell_type": "code",
   "execution_count": 4,
   "metadata": {},
   "outputs": [],
   "source": [
    "df1['iso_subdivision'] = df1['iso_subdivision'].str[3:]\n",
    "\n",
    "# presa due tuple per ogni stato effettuando un random sampling\n",
    "df1 = df1.groupby([\"country_region\"]).sample(2)\n",
    "df2 = df2.groupby([\"country_territory_code\"]).sample(2)\n",
    "\n",
    "# scrittura su disco dei ds\n",
    "df1.to_csv(PATH + \"/pipeline/datasets/covid/filtered-bing.csv\", index = False)\n",
    "df2.to_csv(PATH + \"/pipeline/datasets/covid/filtered-ecdc_cases.csv\", index = False)"
   ]
  },
  {
   "attachments": {},
   "cell_type": "markdown",
   "metadata": {},
   "source": [
    "PREPARING DATA FOR EMBDI"
   ]
  },
  {
   "attachments": {},
   "cell_type": "markdown",
   "metadata": {},
   "source": [
    "Reading filtered datasets"
   ]
  },
  {
   "cell_type": "code",
   "execution_count": 5,
   "metadata": {},
   "outputs": [],
   "source": [
    "f1 = PATH + \"/pipeline/datasets/covid/filtered-bing.csv\"\n",
    "#df1 = pd.read_csv(f1, sep = \",\")\n",
    "for c in df1.columns:\n",
    "    if df1[c].dtype == \"object\":\n",
    "        df1[c] = df1[c].str.replace(\"_\", \" \")\n",
    "\n",
    "f2 = PATH + \"/pipeline/datasets/covid/filtered-ecdc_cases.csv\"\n",
    "#df2 = pd.read_csv(f2, sep = \",\")\n",
    "for c in df2.columns:\n",
    "    if df2[c].dtype == \"object\":\n",
    "        df2[c] = df2[c].str.replace(\"_\", \" \")"
   ]
  },
  {
   "attachments": {},
   "cell_type": "markdown",
   "metadata": {},
   "source": [
    "Datasets concatenation with horizon parameter"
   ]
  },
  {
   "cell_type": "code",
   "execution_count": 6,
   "metadata": {},
   "outputs": [
    {
     "name": "stderr",
     "output_type": "stream",
     "text": [
      "c:\\Users\\Simo\\Desktop\\progettongdb\\algoritmi\\embdi\\embdi-master\\EmbDI\\data_preprocessing.py:77: UserWarning: No attributes chosen to round.\n",
      "  warnings.warn(\"No attributes chosen to round.\")\n"
     ]
    }
   ],
   "source": [
    "parameters = {\n",
    "    \"output_file\": \"bing-ecdc_cases\",\n",
    "    \"concatenate\": \"horizon\",\n",
    "    \"missing_value\": \"nan,ukn,none,unknown,-\",\n",
    "    \"missing_value_strategy\": \"\",\n",
    "    \"round_number\": 1,\n",
    "    \"round_columns\": \"\",\n",
    "    \"auto_merge\": False,\n",
    "    \"expand_columns\": \"\",\n",
    "    \"tokenize_shared\": False,\n",
    "}\n",
    "\n",
    "df_c = dp.data_preprocessing([df1, df2], parameters)\n",
    "df_c.to_csv(PATH + \"/pipeline/datasets/covid/\" + parameters[\"output_file\"] + \".csv\", index=False)"
   ]
  },
  {
   "attachments": {},
   "cell_type": "markdown",
   "metadata": {},
   "source": [
    "Creating and saving info file"
   ]
  },
  {
   "cell_type": "code",
   "execution_count": 7,
   "metadata": {},
   "outputs": [],
   "source": [
    "dp.write_info_file([df1, df2],  PATH + \"/pipeline/info/info-\" + parameters[\"output_file\"] + \".txt\", [f1, f2])"
   ]
  },
  {
   "attachments": {},
   "cell_type": "markdown",
   "metadata": {},
   "source": [
    "Creating and saving edgelist of concatenated dataset"
   ]
  },
  {
   "cell_type": "code",
   "execution_count": 8,
   "metadata": {},
   "outputs": [
    {
     "name": "stdout",
     "output_type": "stream",
     "text": [
      "command to paste on the cell below: ./EmbDI/edgelist.py -i pipeline/datasets/covid/bing-ecdc_cases.csv -o pipeline/er_edgelists/bing-ecdc_cases_edgelist.txt\n"
     ]
    }
   ],
   "source": [
    "input_edgelist = \"pipeline/datasets/covid/\" + parameters[\"output_file\"] + \".csv\"\n",
    "output_edgelist = \"pipeline/er_edgelists/\" + parameters[\"output_file\"] + \"_edgelist.txt\"\n",
    "\n",
    "command = \"./EmbDI/edgelist.py\" + \" -i \" + input_edgelist + \" -o \" + output_edgelist\n",
    "print(\"command to paste on the cell below: \" + command)"
   ]
  },
  {
   "cell_type": "code",
   "execution_count": 8,
   "metadata": {},
   "outputs": [
    {
     "name": "stderr",
     "output_type": "stream",
     "text": [
      "908it [00:00, 2315.92it/s]"
     ]
    },
    {
     "name": "stdout",
     "output_type": "stream",
     "text": [
      "\n"
     ]
    },
    {
     "name": "stderr",
     "output_type": "stream",
     "text": [
      "\n"
     ]
    }
   ],
   "source": [
    "# paste command after \"%run \"\n",
    "%run ./EmbDI/edgelist.py -i pipeline/datasets/covid/bing-ecdc_cases.csv -o pipeline/er_edgelists/bing-ecdc_cases_edgelist.txt"
   ]
  },
  {
   "attachments": {},
   "cell_type": "markdown",
   "metadata": {},
   "source": [
    "Manually creating and saving matches files (a.k.a. ground truth)"
   ]
  },
  {
   "cell_type": "code",
   "execution_count": 9,
   "metadata": {},
   "outputs": [],
   "source": [
    "# insert your ground truth in \"lines\" variable\n",
    "lines = [\n",
    "    '0_country_region,1_countries_and_territories',\n",
    "    '0_iso3,1_country_territory_code',\n",
    "    '0_deaths,1_deaths'\n",
    "    ]\n",
    "\n",
    "with open('pipeline/matches/sm-matches/sm-matches-bing-ecdc_cases.txt', 'w') as f:\n",
    "    for line in lines:\n",
    "        f.write(line)\n",
    "        f.write('\\n')"
   ]
  },
  {
   "attachments": {},
   "cell_type": "markdown",
   "metadata": {},
   "source": [
    "Configuring config file to perform training of embeddings and schema matching task"
   ]
  },
  {
   "cell_type": "code",
   "execution_count": 10,
   "metadata": {},
   "outputs": [],
   "source": [
    "config = {\n",
    "\n",
    "    # Input configuration:\n",
    "    \"task\":\"train-match\",\n",
    "    \"input_file\":\"pipeline/er_edgelists/bing-ecdc_cases_edgelist.txt\",\n",
    "    \"output_file\":\"bing-ecdc_cases-OUTPUT\",\n",
    "    \"experiment_type\":\"SM\",\n",
    "    \"match_file\":\"pipeline/matches/sm-matches/sm-matches-bing-ecdc_cases.txt\",\n",
    "    \"dataset_file\":\"pipeline/datasets/covid/bing-ecdc_cases.csv\",\n",
    "    \"test_dir\":\"pipeline/test_dir/covid\",\n",
    "    \"dataset_info\":\"pipeline/info/info-bing-ecdc_cases.txt\",\n",
    "    \"embeddings_file\":\"\",\n",
    "\n",
    "    # Walks configuration:\n",
    "    \"sentence_length\":\"90\",\n",
    "    \"n_sentences\":\"default\",\n",
    "    \"follow_sub\":\"false\",\n",
    "    # {no, smooth, inverse_smooth, log, piecewise} \n",
    "    #\"smoothing_method\":\"smooth,[k=0.2, target=200]\",\n",
    "    \"smoothing_method\":\"no\",\n",
    "    \"backtrack\":\"true\",\n",
    "    \"write_walks\":\"true\",\n",
    "    \"repl_numbers\":\"False\",\n",
    "    \"repl_strings\":\"False\",\n",
    "    \"flatten\":\"tt\",\n",
    "    \"walks_strategy\":\"basic\",\n",
    "\n",
    "    # Embeddings configuration:\n",
    "    \"training_algorithm\":\"word2vec\",\n",
    "    \"n_dimensions\":\"450\",\n",
    "    \"window_size\":\"7\",\n",
    "    \"learning_method\":\"skipgram\",\n",
    "\n",
    "    # Test configuration:\n",
    "    \"max_rank\":\"5\",\n",
    "    \"ntop\":\"10\",\n",
    "    \"ncand\":\"1\",\n",
    "\n",
    "    # Miscellaneous:\n",
    "    \"intersection\":\"false\",\n",
    "    \"mlflow\":\"false\"\n",
    "\n",
    "}\n",
    "\n",
    "with open('pipeline/config_files/reproducibility/schema_matching/train_config-ecdc_cases-sm', 'w') as f:\n",
    "    for key, value in config.items(): \n",
    "        f.write('%s:%s\\n' % (key, value))"
   ]
  },
  {
   "attachments": {},
   "cell_type": "markdown",
   "metadata": {},
   "source": [
    "Executing embeddings training and schema matching"
   ]
  },
  {
   "cell_type": "code",
   "execution_count": 11,
   "metadata": {},
   "outputs": [
    {
     "name": "stderr",
     "output_type": "stream",
     "text": [
      "c:\\Users\\Simo\\Desktop\\progettongdb\\algoritmi\\embdi\\embdi-master\\EmbDI\\utils.py:458: UserWarning: Number of dimensions different from default (300): 450\n",
      "  warnings.warn('Number of dimensions different from default (300): {}'.format(config['n_dimensions']))\n",
      "c:\\Users\\Simo\\Desktop\\progettongdb\\algoritmi\\embdi\\embdi-master\\EmbDI\\utils.py:460: UserWarning: Window size different from default (5): 7\n",
      "  warnings.warn('Window size different from default (5): {}'.format(config['window_size']))\n"
     ]
    },
    {
     "name": "stdout",
     "output_type": "stream",
     "text": [
      "################################################################################\n",
      "# File 1 out of 1\n",
      "# Configuration file: train_config-ecdc_cases-sm\n",
      "# Starting run................................................ 2023-02-01 22:01:49\n",
      "\n",
      "# Starting graph construction................................. 2023-02-01 22:01:49\n",
      "# Expanding columns: [tt].\n"
     ]
    },
    {
     "name": "stderr",
     "output_type": "stream",
     "text": [
      "# Loading edgelist_file.: 100%|██████████| 24016/24016 [00:00<00:00, 94535.23it/s]\n",
      "# Preparing aliased randomizer.: 100%|██████████| 4077/4077 [00:00<00:00, 30881.02it/s]\n"
     ]
    },
    {
     "name": "stdout",
     "output_type": "stream",
     "text": [
      "\n",
      "# Graph construction complete................................. 2023-02-01 22:01:50\n",
      "# Time required to build graph:............................... 0.39 seconds.\n",
      "# 45300 sentences will be generated.\n",
      "# Skipping search of overlapping values. \n",
      "# Generating basic random walks............................... 2023-02-01 22:01:50\n"
     ]
    },
    {
     "name": "stderr",
     "output_type": "stream",
     "text": [
      "# Sentence generation progress: 100%|██████████| 43946/43946 [00:06<00:00, 6458.23it/s]\n"
     ]
    },
    {
     "name": "stdout",
     "output_type": "stream",
     "text": [
      "# Completing fraction of random walks......................... 2023-02-01 22:01:56\n"
     ]
    },
    {
     "name": "stderr",
     "output_type": "stream",
     "text": [
      "# Sentence generation progress: 100%|██████████| 1354/1354 [00:00<00:00, 5976.84it/s]\n"
     ]
    },
    {
     "name": "stdout",
     "output_type": "stream",
     "text": [
      "# Generation of random walks completed........................ 2023-02-01 22:01:57\n",
      "\n",
      "# Training embeddings......................................... 2023-02-01 22:01:57\n",
      "# Writing embeddings in file: pipeline/embeddings/bing-ecdc_cases-OUTPUT.emb\n",
      "# Embeddings generation complete.............................. 2023-02-01 22:03:10\n",
      "Extracting matched tuples\n"
     ]
    },
    {
     "name": "stderr",
     "output_type": "stream",
     "text": [
      "# ER - Finding node matches: 100%|██████████| 908/908 [00:00<00:00, 5217.45it/s]\n"
     ]
    },
    {
     "name": "stdout",
     "output_type": "stream",
     "text": [
      "\n",
      "# Time required to build sim struct: 0.55 seconds\n",
      "# Time required to execute the ER task: 0.604605\n",
      "Extracting matched columns\n",
      "# Executing SM tests.\n",
      "# Ending run.................................................. 2023-02-01 22:03:10\n",
      "# Time required: 81.32 s\n"
     ]
    }
   ],
   "source": [
    "%run main.py -f pipeline/config_files/reproducibility/schema_matching/train_config-ecdc_cases-sm"
   ]
  },
  {
   "attachments": {},
   "cell_type": "markdown",
   "metadata": {},
   "source": [
    "Configuring config file to perform test task"
   ]
  },
  {
   "cell_type": "code",
   "execution_count": 12,
   "metadata": {},
   "outputs": [],
   "source": [
    "config = {\n",
    "\n",
    "    # RIMUOVERE PARAMETRI NON NECESSARI PER IL TASK DI TESTING\n",
    "\n",
    "    # Input configuration:\n",
    "    \"task\":\"test\",\n",
    "    \"input_file\":\"pipeline/er_edgelists/bing-ecdc_cases_edgelist.txt\",\n",
    "    \"output_file\":\"bing-ecdc_cases-OUTPUT\",\n",
    "    \"experiment_type\":\"SM\",\n",
    "    \"match_file\":\"pipeline/matches/sm-matches/sm-matches-bing-ecdc_cases.txt\",\n",
    "    \"dataset_file\":\"pipeline/datasets/covid/bing-ecdc_cases.csv\",\n",
    "    \"test_dir\":\"pipeline/test_dir/covid\",\n",
    "    \"dataset_info\":\"pipeline/info/info-bing-ecdc_cases.txt\",\n",
    "    \"embeddings_file\":\"pipeline/embeddings/bing-ecdc_cases-OUTPUT.emb\",\n",
    "\n",
    "    # Walks configuration:\n",
    "    \"sentence_length\":\"60\",\n",
    "    \"n_sentences\":\"default\",\n",
    "    \"follow_sub\":\"false\",\n",
    "    \"smoothing_method\":\"no\",\n",
    "    \"backtrack\":\"true\",\n",
    "    \"write_walks\":\"true\",\n",
    "    \"repl_numbers\":\"False\",\n",
    "    \"repl_strings\":\"False\",\n",
    "    \"flatten\":\"tt\",\n",
    "    \"walks_strategy\":\"basic\",\n",
    "\n",
    "    # Embeddings configuration:\n",
    "    \"training_algorithm\":\"word2vec\",\n",
    "    \"n_dimensions\":\"300\",\n",
    "    \"window_size\":\"5\",\n",
    "    \"learning_method\":\"skipgram\",\n",
    "\n",
    "    # Test configuration:\n",
    "    \"ntop\":\"10\",\n",
    "    \"ncand\":\"1\",\n",
    "\n",
    "    # Miscellaneous:\n",
    "    \"intersection\":\"false\",\n",
    "    \"mlflow\":\"false\"\n",
    "\n",
    "}\n",
    "\n",
    "with open('pipeline/config_files/reproducibility/schema_matching/test_config-ecdc_cases-sm', 'w') as f:\n",
    "    for key, value in config.items(): \n",
    "        f.write('%s:%s\\n' % (key, value))"
   ]
  },
  {
   "attachments": {},
   "cell_type": "markdown",
   "metadata": {},
   "source": [
    "Executing test task"
   ]
  },
  {
   "cell_type": "code",
   "execution_count": 13,
   "metadata": {},
   "outputs": [
    {
     "name": "stdout",
     "output_type": "stream",
     "text": [
      "################################################################################\n",
      "# File 1 out of 1\n",
      "# Configuration file: test_config-ecdc_cases-sm\n",
      "# Starting run................................................ 2023-02-01 22:03:10\n",
      "\n",
      "# SCHEMA MATCHING\n",
      "# Executing SM tests.\n",
      "Model built from file pipeline/embeddings/bing-ecdc_cases-OUTPUT.emb\n",
      "P\tR\tF\n",
      "22.2222\t100.0000\t36.3636\t\n",
      "# Ending run.................................................. 2023-02-01 22:03:11\n",
      "# Time required: 0.14 s\n"
     ]
    }
   ],
   "source": [
    "%run main.py -f pipeline/config_files/reproducibility/schema_matching/test_config-ecdc_cases-sm"
   ]
  }
 ],
 "metadata": {
  "kernelspec": {
   "display_name": "Python 3",
   "language": "python",
   "name": "python3"
  },
  "language_info": {
   "codemirror_mode": {
    "name": "ipython",
    "version": 3
   },
   "file_extension": ".py",
   "mimetype": "text/x-python",
   "name": "python",
   "nbconvert_exporter": "python",
   "pygments_lexer": "ipython3",
   "version": "3.9.1"
  },
  "orig_nbformat": 4,
  "vscode": {
   "interpreter": {
    "hash": "35f107a2ec692b2a0bf98ddff9bffe0949b7f416305a6e3ae23f86ea31fee1ef"
   }
  }
 },
 "nbformat": 4,
 "nbformat_minor": 2
}
