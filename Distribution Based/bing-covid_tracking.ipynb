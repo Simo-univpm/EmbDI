{
 "cells": [
  {
   "cell_type": "code",
   "execution_count": 15,
   "metadata": {},
   "outputs": [],
   "source": [
    "import os\n",
    "from os.path import dirname, abspath\n",
    "import pandas as pd\n",
    "import valentine as valentine\n",
    "from valentine import valentine_match, valentine_metrics\n",
    "from valentine.algorithms import DistributionBased\n",
    "import pprint"
   ]
  },
  {
   "cell_type": "code",
   "execution_count": 16,
   "metadata": {},
   "outputs": [
    {
     "name": "stdout",
     "output_type": "stream",
     "text": [
      "C:/Users/fende/Desktop/Dati\n"
     ]
    }
   ],
   "source": [
    "PATH = \"C:/Users/fende/Desktop/Dati\"\n",
    "print(PATH)"
   ]
  },
  {
   "attachments": {},
   "cell_type": "markdown",
   "metadata": {},
   "source": [
    "Load data using pandas"
   ]
  },
  {
   "cell_type": "code",
   "execution_count": 17,
   "metadata": {},
   "outputs": [],
   "source": [
    "df1 = pd.read_csv(PATH + \"/bing_covid-19_data.csv\", sep = \",\", low_memory = False)\n",
    "df1 = df1.drop(df1[df1.iso3 != 'USA' ].index)\n",
    "df1['iso_subdivision'] = df1['iso_subdivision'].str[3:]\n",
    "df2 = pd.read_csv(PATH + \"/covid_tracking.csv\", sep = \",\", low_memory = False)"
   ]
  },
  {
   "attachments": {},
   "cell_type": "markdown",
   "metadata": {},
   "source": [
    "Keeping only the common values between the 2 datasets"
   ]
  },
  {
   "cell_type": "code",
   "execution_count": 18,
   "metadata": {},
   "outputs": [],
   "source": [
    "# presi una tupla a caso per ogni stato della colonna iso2 per evitare di prendere i primi record di ogni stato ed effettuare un random sampling\n",
    "df1 = df1.groupby([\"iso_subdivision\"]).sample(1)\n",
    "df2 = df2.groupby([\"state\"]).sample(1)\n",
    "\n",
    "merged = pd.merge(df1, df2, how = \"inner\", left_on=['iso_subdivision'], right_on=['state'])\n",
    "#col_names_df2 = list(df2.columns)\n",
    "\n",
    "merged.rename(columns={\"recovered_x\": \"recovered\", \"iso_subdivision_x\": \"iso_subdivision\", \"load_time_x\": \"load_time\"}, inplace=True)\n",
    "\n",
    "merged = merged[df1.columns]\n",
    "\n",
    "merged.to_csv(PATH + \"/filtered_bing_tracking.csv\", index = False)\n",
    "#df2.to_csv(PATH + \"/examples/data/filtered_policy_tracker.csv\", index = False)"
   ]
  },
  {
   "attachments": {},
   "cell_type": "markdown",
   "metadata": {},
   "source": [
    "Instantiate matcher and run"
   ]
  },
  {
   "cell_type": "code",
   "execution_count": 19,
   "metadata": {},
   "outputs": [
    {
     "name": "stdout",
     "output_type": "stream",
     "text": [
      "CPU times: total: 7.72 s\n",
      "Wall time: 8.93 s\n"
     ]
    }
   ],
   "source": [
    "%%time\n",
    "matcher = DistributionBased(0.12, 0.12)\n",
    "matches = valentine_match(merged, df2, matcher)"
   ]
  },
  {
   "attachments": {},
   "cell_type": "markdown",
   "metadata": {},
   "source": [
    "Ground truth for metrics calculation"
   ]
  },
  {
   "cell_type": "code",
   "execution_count": 20,
   "metadata": {},
   "outputs": [],
   "source": [
    "ground_truth = [\n",
    "                (\"iso_subdivision\", \"state\"),\n",
    "                (\"confirmed\", \"positive\"),\n",
    "               ]"
   ]
  },
  {
   "attachments": {},
   "cell_type": "markdown",
   "metadata": {},
   "source": [
    "Metrics calculation"
   ]
  },
  {
   "cell_type": "code",
   "execution_count": 21,
   "metadata": {},
   "outputs": [
    {
     "name": "stdout",
     "output_type": "stream",
     "text": [
      "Found the following matches:\n",
      "{   (('table_1', 'confirmed'), ('table_2', 'fips')): 0.9114600074174806,\n",
      "    (('table_1', 'confirmed'), ('table_2', 'fips_code')): 0.931957788832548,\n",
      "    (('table_1', 'confirmed'), ('table_2', 'in_icu_currently')): 0.9453015930754118,\n",
      "    (('table_1', 'confirmed'), ('table_2', 'on_ventilator_currently')): 0.9548150332579705,\n",
      "    (('table_1', 'confirmed_change'), ('table_2', 'death_increase')): 0.9559747337775429,\n",
      "    (('table_1', 'deaths'), ('table_2', 'fips')): 0.9086128930486909,\n",
      "    (('table_1', 'deaths'), ('table_2', 'fips_code')): 0.9547057228098725,\n",
      "    (('table_1', 'deaths'), ('table_2', 'in_icu_currently')): 0.9319550387455944,\n",
      "    (('table_1', 'deaths'), ('table_2', 'on_ventilator_currently')): 0.9572417537667979,\n",
      "    (('table_1', 'iso2'), ('table_2', 'iso_country')): 1.0,\n",
      "    (('table_1', 'iso_subdivision'), ('table_2', 'state')): 0.9937313778792312,\n",
      "    (('table_1', 'load_time'), ('table_2', 'load_time')): 1.0,\n",
      "    (('table_1', 'recovered_change'), ('table_2', 'fips')): 0.8810370540323506,\n",
      "    (('table_1', 'recovered_change'), ('table_2', 'fips_code')): 0.9150581659842725,\n",
      "    (('table_1', 'recovered_change'), ('table_2', 'in_icu_currently')): 0.9002341920374707,\n",
      "    (('table_1', 'recovered_change'), ('table_2', 'on_ventilator_currently')): 0.9381554693955381}\n",
      "\n",
      "According to the ground truth:\n",
      "[('iso_subdivision', 'state'), ('confirmed', 'positive')]\n",
      "\n",
      "These are the scores of the matcher:\n",
      "{   'f1_score': 0.25,\n",
      "    'precision': 0.16666666666666666,\n",
      "    'precision_at_10_percent': 0.0,\n",
      "    'precision_at_30_percent': 0.2,\n",
      "    'precision_at_50_percent': 0.125,\n",
      "    'precision_at_70_percent': 0.08333333333333333,\n",
      "    'precision_at_90_percent': 0.06666666666666667,\n",
      "    'recall': 0.5,\n",
      "    'recall_at_sizeof_ground_truth': 0.0}\n"
     ]
    }
   ],
   "source": [
    "metrics = valentine_metrics.all_metrics(matches, ground_truth)\n",
    "\n",
    "pp = pprint.PrettyPrinter(indent=4)\n",
    "print(\"Found the following matches:\")\n",
    "pp.pprint(matches)\n",
    "\n",
    "print(\"\\nAccording to the ground truth:\")\n",
    "pp.pprint(ground_truth)\n",
    "\n",
    "print(\"\\nThese are the scores of the matcher:\")\n",
    "pp.pprint(metrics)"
   ]
  }
 ],
 "metadata": {
  "kernelspec": {
   "display_name": "Python 3",
   "language": "python",
   "name": "python3"
  },
  "language_info": {
   "codemirror_mode": {
    "name": "ipython",
    "version": 3
   },
   "file_extension": ".py",
   "mimetype": "text/x-python",
   "name": "python",
   "nbconvert_exporter": "python",
   "pygments_lexer": "ipython3",
   "version": "3.9.10 (tags/v3.9.10:f2f3f53, Jan 17 2022, 15:14:21) [MSC v.1929 64 bit (AMD64)]"
  },
  "orig_nbformat": 4,
  "vscode": {
   "interpreter": {
    "hash": "2d3f817902afc60ee7d7876fce82fcd9285981a696a9c3590d33e70c2f332502"
   }
  }
 },
 "nbformat": 4,
 "nbformat_minor": 2
}
