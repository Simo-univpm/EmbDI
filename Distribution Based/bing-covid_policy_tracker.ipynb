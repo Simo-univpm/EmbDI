{
 "cells": [
  {
   "cell_type": "code",
   "execution_count": 2,
   "metadata": {},
   "outputs": [],
   "source": [
    "import os\n",
    "from os.path import dirname, abspath\n",
    "import pandas as pd\n",
    "import valentine as valentine\n",
    "from valentine import valentine_match, valentine_metrics\n",
    "from valentine.algorithms import Coma\n",
    "from valentine.algorithms import DistributionBased\n",
    "import pprint"
   ]
  },
  {
   "cell_type": "code",
   "execution_count": 3,
   "metadata": {},
   "outputs": [
    {
     "name": "stdout",
     "output_type": "stream",
     "text": [
      "C:/Users/fende/Desktop/Dati\n"
     ]
    }
   ],
   "source": [
    "PATH = \"C:/Users/fende/Desktop/Dati\"\n",
    "print(PATH)"
   ]
  },
  {
   "attachments": {},
   "cell_type": "markdown",
   "metadata": {},
   "source": [
    "Load data using pandas"
   ]
  },
  {
   "cell_type": "code",
   "execution_count": 4,
   "metadata": {},
   "outputs": [
    {
     "name": "stdout",
     "output_type": "stream",
     "text": [
      "Index(['id', 'updated', 'confirmed', 'confirmed_change', 'deaths',\n",
      "       'deaths_change', 'recovered', 'recovered_change', 'latitude',\n",
      "       'longitude', 'iso2', 'iso3', 'country_region', 'admin_region_1',\n",
      "       'iso_subdivision', 'admin_region_2', 'load_time'],\n",
      "      dtype='object')\n",
      "Index(['countryname', 'countrycode', 'date', 'c1_school_closing', 'c1_flag',\n",
      "       'c2_workplace_closing', 'c2_flag', 'c3_cancel_public_events', 'c3_flag',\n",
      "       'c4_restrictions_on_gatherings', 'c4_flag', 'c5_close_public_transport',\n",
      "       'c5_flag', 'c6_stay_at_home_requirements', 'c6_flag',\n",
      "       'c7_restrictions_on_internal_movement', 'c7_flag',\n",
      "       'c8_international_travel_controls', 'e1_income_support', 'e1_flag',\n",
      "       'e2_debt/contract_relief', 'e3_fiscal_measures',\n",
      "       'e4_international_support', 'h1_public_information_campaigns',\n",
      "       'h1_flag', 'h2_testing_policy', 'h3_contact_tracing',\n",
      "       'h4_emergency_investment_in_healthcare', 'h5_investment_in_vaccines',\n",
      "       'm1_wildcard', 'confirmedcases', 'confirmeddeaths', 'stringencyindex',\n",
      "       'stringencyindexfordisplay', 'legacystringencyindex',\n",
      "       'legacystringencyindexfordisplay', 'iso_country', 'load_date'],\n",
      "      dtype='object')\n"
     ]
    }
   ],
   "source": [
    "df1 = pd.read_csv(PATH + \"/bing_covid-19_data.csv\",   sep = \",\", low_memory = False)\n",
    "print(df1.columns)\n",
    "df2 = pd.read_csv(PATH + \"/covid_policy_tracker.csv\", sep = \",\", low_memory = False)\n",
    "print(df2.columns)"
   ]
  },
  {
   "attachments": {},
   "cell_type": "markdown",
   "metadata": {},
   "source": [
    "Keeping only the common values between the 2 datasets"
   ]
  },
  {
   "cell_type": "code",
   "execution_count": 5,
   "metadata": {},
   "outputs": [
    {
     "name": "stdout",
     "output_type": "stream",
     "text": [
      "Index(['id', 'updated', 'confirmed', 'confirmed_change', 'deaths',\n",
      "       'deaths_change', 'recovered', 'recovered_change', 'latitude',\n",
      "       'longitude', 'iso2', 'iso3', 'country_region', 'admin_region_1',\n",
      "       'iso_subdivision', 'admin_region_2', 'load_time', 'countryname',\n",
      "       'countrycode', 'date', 'c1_school_closing', 'c1_flag',\n",
      "       'c2_workplace_closing', 'c2_flag', 'c3_cancel_public_events', 'c3_flag',\n",
      "       'c4_restrictions_on_gatherings', 'c4_flag', 'c5_close_public_transport',\n",
      "       'c5_flag', 'c6_stay_at_home_requirements', 'c6_flag',\n",
      "       'c7_restrictions_on_internal_movement', 'c7_flag',\n",
      "       'c8_international_travel_controls', 'e1_income_support', 'e1_flag',\n",
      "       'e2_debt/contract_relief', 'e3_fiscal_measures',\n",
      "       'e4_international_support', 'h1_public_information_campaigns',\n",
      "       'h1_flag', 'h2_testing_policy', 'h3_contact_tracing',\n",
      "       'h4_emergency_investment_in_healthcare', 'h5_investment_in_vaccines',\n",
      "       'm1_wildcard', 'confirmedcases', 'confirmeddeaths', 'stringencyindex',\n",
      "       'stringencyindexfordisplay', 'legacystringencyindex',\n",
      "       'legacystringencyindexfordisplay', 'iso_country', 'load_date'],\n",
      "      dtype='object')\n"
     ]
    }
   ],
   "source": [
    "# presi una tupla a caso per ogni stato della colonna iso3 per evitare di prendere i primi record di ogni stato ed effettuare un random sampling\n",
    "df1 = df1.groupby([\"iso3\"]).sample(1)\n",
    "df2 = df2.groupby([\"countrycode\"]).sample(1)\n",
    "\n",
    "merged = pd.merge(df1, df2, how = \"inner\", left_on='iso3', right_on='countrycode')\n",
    "\n",
    "print(merged.columns)\n",
    "\n",
    "col_names_df2 = list(df2.columns)\n",
    "merged = merged.drop(col_names_df2, axis=1)\n",
    "\n",
    "merged.to_csv(PATH + \"/filtered_bing.csv\", index = False)\n",
    "#df2.to_csv(PATH + \"/examples/data/filtered_policy_tracker.csv\", index = False)"
   ]
  },
  {
   "attachments": {},
   "cell_type": "markdown",
   "metadata": {},
   "source": [
    "Instantiate matcher and run"
   ]
  },
  {
   "cell_type": "code",
   "execution_count": 12,
   "metadata": {},
   "outputs": [
    {
     "name": "stdout",
     "output_type": "stream",
     "text": [
      "CPU times: total: 8.47 s\n",
      "Wall time: 10.4 s\n"
     ]
    }
   ],
   "source": [
    "%%time\n",
    "matcher = DistributionBased(0.08, 0.08)\n",
    "matches = valentine_match(merged, df2, matcher)"
   ]
  },
  {
   "attachments": {},
   "cell_type": "markdown",
   "metadata": {},
   "source": [
    "Ground truth for metrics calculation"
   ]
  },
  {
   "cell_type": "code",
   "execution_count": 13,
   "metadata": {},
   "outputs": [],
   "source": [
    "ground_truth = [\n",
    "                (\"iso2\", \"iso_country\"),\n",
    "                (\"iso3\", \"countrycode\"),\n",
    "                (\"country_region\", \"countryname\")\n",
    "               ]"
   ]
  },
  {
   "attachments": {},
   "cell_type": "markdown",
   "metadata": {},
   "source": [
    "Metrics calculation"
   ]
  },
  {
   "cell_type": "code",
   "execution_count": 14,
   "metadata": {},
   "outputs": [
    {
     "name": "stdout",
     "output_type": "stream",
     "text": [
      "Found the following matches:\n",
      "{   (('table_1', 'confirmed_change'), ('table_2', 'c2_workplace_closing')): 0.9309870418874429,\n",
      "    (('table_1', 'confirmed_change'), ('table_2', 'h2_testing_policy')): 0.9387057183814522,\n",
      "    (('table_1', 'country_region'), ('table_2', 'countryname')): 0.9992168591480107,\n",
      "    (('table_1', 'deaths_change'), ('table_2', 'c1_school_closing')): 0.8499856882178254,\n",
      "    (('table_1', 'deaths_change'), ('table_2', 'c5_close_public_transport')): 0.9464090944423237,\n",
      "    (('table_1', 'deaths_change'), ('table_2', 'c6_stay_at_home_requirements')): 0.910639404479407,\n",
      "    (('table_1', 'deaths_change'), ('table_2', 'c7_restrictions_on_internal_movement')): 0.9559841624603099,\n",
      "    (('table_1', 'deaths_change'), ('table_2', 'e1_income_support')): 0.8423512051155927,\n",
      "    (('table_1', 'deaths_change'), ('table_2', 'e2_debt/contract_relief')): 0.8750990667029419,\n",
      "    (('table_1', 'deaths_change'), ('table_2', 'h3_contact_tracing')): 0.8426424113362708,\n",
      "    (('table_1', 'iso2'), ('table_2', 'iso_country')): 0.9998786340817565,\n",
      "    (('table_1', 'iso3'), ('table_2', 'countrycode')): 0.9994555673237064,\n",
      "    (('table_1', 'recovered_change'), ('table_2', 'c1_school_closing')): 0.8599776411403018,\n",
      "    (('table_1', 'recovered_change'), ('table_2', 'c5_close_public_transport')): 0.8663134842328185,\n",
      "    (('table_1', 'recovered_change'), ('table_2', 'c6_stay_at_home_requirements')): 0.9528211095662554,\n",
      "    (('table_1', 'recovered_change'), ('table_2', 'c7_restrictions_on_internal_movement')): 0.9465365443351282,\n",
      "    (('table_1', 'recovered_change'), ('table_2', 'e1_income_support')): 0.8985754291976135,\n",
      "    (('table_1', 'recovered_change'), ('table_2', 'e2_debt/contract_relief')): 0.9329388290602963,\n",
      "    (('table_1', 'recovered_change'), ('table_2', 'h3_contact_tracing')): 0.829371488764045,\n",
      "    (('table_1', 'updated'), ('table_2', 'date')): 0.9367494893197613}\n",
      "\n",
      "According to the ground truth:\n",
      "[   ('iso2', 'iso_country'),\n",
      "    ('iso3', 'countrycode'),\n",
      "    ('country_region', 'countryname')]\n",
      "\n",
      "These are the scores of the matcher:\n",
      "{   'f1_score': 0.6,\n",
      "    'precision': 0.42857142857142855,\n",
      "    'precision_at_10_percent': 1.0,\n",
      "    'precision_at_30_percent': 0.5,\n",
      "    'precision_at_50_percent': 0.3,\n",
      "    'precision_at_70_percent': 0.21428571428571427,\n",
      "    'precision_at_90_percent': 0.16666666666666666,\n",
      "    'recall': 1.0,\n",
      "    'recall_at_sizeof_ground_truth': 1.0}\n"
     ]
    }
   ],
   "source": [
    "metrics = valentine_metrics.all_metrics(matches, ground_truth)\n",
    "\n",
    "pp = pprint.PrettyPrinter(indent=4)\n",
    "print(\"Found the following matches:\")\n",
    "pp.pprint(matches)\n",
    "\n",
    "print(\"\\nAccording to the ground truth:\")\n",
    "pp.pprint(ground_truth)\n",
    "\n",
    "print(\"\\nThese are the scores of the matcher:\")\n",
    "pp.pprint(metrics)"
   ]
  }
 ],
 "metadata": {
  "kernelspec": {
   "display_name": "Python 3",
   "language": "python",
   "name": "python3"
  },
  "language_info": {
   "codemirror_mode": {
    "name": "ipython",
    "version": 3
   },
   "file_extension": ".py",
   "mimetype": "text/x-python",
   "name": "python",
   "nbconvert_exporter": "python",
   "pygments_lexer": "ipython3",
   "version": "3.9.10 (tags/v3.9.10:f2f3f53, Jan 17 2022, 15:14:21) [MSC v.1929 64 bit (AMD64)]"
  },
  "orig_nbformat": 4,
  "vscode": {
   "interpreter": {
    "hash": "2d3f817902afc60ee7d7876fce82fcd9285981a696a9c3590d33e70c2f332502"
   }
  }
 },
 "nbformat": 4,
 "nbformat_minor": 2
}
